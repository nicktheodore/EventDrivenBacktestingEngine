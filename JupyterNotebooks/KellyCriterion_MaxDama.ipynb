{
 "cells": [
  {
   "cell_type": "code",
   "execution_count": 1,
   "metadata": {},
   "outputs": [
    {
     "data": {
      "text/plain": [
       "\"\\nThese Python functions are used to calculate the growth-optimal leverage for a strategy based on its\\nbacktest performance. Each trade's profit or loss is treated as one sample, from an underlying probability\\ndistribution which is generating the PnLs. This function optimizes the amount of leverage one would use when\\nbetting on this distribution, assuming that the strategy will have the smae performance in the near future.\\n\\nExample:\\n\\n# Load some data from yahoo\\nimport matplotlib.finance as fin\\nimport datetime\\nimport pylab\\n\\nstart = datetime.datetime(2006,1,1)\\nend = datetime.datetime(2007,1,1)\\n\\nbars = fin.quotes_historical_yahoo('SPY', start, end)\\nimport numpy as np\\nclose = np.array([bar[4] for bar in bars])\\nclose = close[range(0, len(close), 5)] # Convert to weekly resolution\\nreturns = np.diff(close)/close[:-1]\\n\\n# Empirical Kelly\\nkelly(returns)\\n\\n# Continuous/Gaussian Analytic Kelly\\nnp.mean(returns)/np.var(returns)\\n\\npylab.hist(returns)\\npylab.show()\\n# Good: Heavy left tail caused empirical Kelly to be less than continuous/Gaussian Kelly.\\n# Recall that tail risk arises from platykurtotic returns, increasing the probability of extreme events.\\n# Kurtosis of a Gaussian distribution is 3.\\n\""
      ]
     },
     "execution_count": 1,
     "metadata": {},
     "output_type": "execute_result"
    }
   ],
   "source": [
    "\"\"\"\n",
    "These Python functions are used to calculate the growth-optimal leverage for a strategy based on its\n",
    "backtest performance. Each trade's profit or loss is treated as one sample, from an underlying probability\n",
    "distribution which is generating the PnLs. This function optimizes the amount of leverage one would use when\n",
    "betting on this distribution, assuming that the strategy will have the same performance in the near future.\n",
    "\n",
    "Example:\n",
    "\n",
    "# Load some data from yahoo\n",
    "import matplotlib.finance as fin\n",
    "import datetime\n",
    "import pylab\n",
    "\n",
    "start = datetime.datetime(2006,1,1)\n",
    "end = datetime.datetime(2007,1,1)\n",
    "\n",
    "bars = fin.quotes_historical_yahoo('SPY', start, end)\n",
    "import numpy as np\n",
    "close = np.array([bar[4] for bar in bars])\n",
    "close = close[range(0, len(close), 5)] # Convert to weekly resolution\n",
    "returns = np.diff(close)/close[:-1]\n",
    "\n",
    "# Empirical Kelly\n",
    "kelly(returns)\n",
    "\n",
    "# Continuous/Gaussian Analytic Kelly\n",
    "np.mean(returns)/np.var(returns)\n",
    "\n",
    "pylab.hist(returns)\n",
    "pylab.show()\n",
    "# Good: Heavy left tail caused empirical Kelly to be less than continuous/Gaussian Kelly.\n",
    "# Recall that tail risk arises from platykurtotic returns, increasing the probability of extreme events.\n",
    "# Kurtosis of a Gaussian distribution is 3.\n",
    "\"\"\""
   ]
  },
  {
   "cell_type": "code",
   "execution_count": 9,
   "metadata": {
    "collapsed": true
   },
   "outputs": [],
   "source": [
    "from __future__ import print_function\n",
    "import datetime\n",
    "import numpy as np\n",
    "import pylab\n",
    "import pandas_datareader.data as web\n",
    "import scipy.optimize\n"
   ]
  },
  {
   "cell_type": "code",
   "execution_count": 4,
   "metadata": {},
   "outputs": [],
   "source": [
    "def kelly(hist_returns, binned_optimization=False, num_bins=100, stop_loss=-np.inf):\n",
    "    \"\"\"\n",
    "    Compute the optimal multiplier to leverage historical returns.\n",
    "    \n",
    "    Parameters\n",
    "    ----------\n",
    "    hist_returns : ndarray\n",
    "        Arithmetic 1-pd returns.\n",
    "    binned_optimization : bool\n",
    "        See empirical distribution; fewer bins improves runtime.\n",
    "    num_bins : int\n",
    "        See empirical distribution; fewer bins improves runtime.\n",
    "    stop_loss : double\n",
    "        Experimental; simulate the effect of a stop loss at stop_loss\n",
    "        percent return.\n",
    "        \n",
    "    Returns\n",
    "    -------\n",
    "    f : float\n",
    "        The optimal leverage factor.\n",
    "    \"\"\"\n",
    "    \n",
    "    if stop_loss > -np.inf:\n",
    "        stopped_out = hist_returns < stop_loss\n",
    "        hist_returns[stopped_out] = stop_loss\n",
    "        \n",
    "    probabilities, returns = empirical_distribution(hist_returns, binned_optimization, num_bins) # def below...\n",
    "    \n",
    "    expected_log_return = lambda f: expectation(probabilities, np.log(1+f*returns)) \n",
    "    objective = lambda f: -expected_log_return(f)\n",
    "    derivative = lambda f: -expectation(probabilities, returns/(1.+f*returns))\n",
    "    \n",
    "    return scipy.optimize.fmin_cg(f=objective, x0=1.0, fprime=derivative, disp=1, full_output=1,\n",
    "                                  maxiter=5000, callback=callback)\n"
   ]
  },
  {
   "cell_type": "code",
   "execution_count": 5,
   "metadata": {
    "collapsed": true
   },
   "outputs": [],
   "source": [
    "def empirical_distribution(hist_returns, binned_optimization=True, num_bins=100):\n",
    "    \"\"\"\n",
    "    Aggreggate observations and generate an empirical probability distribution of the historical returns.\n",
    "    \n",
    "    Parameters\n",
    "    ----------\n",
    "    hist_returns : ndarray\n",
    "        Observations; assume uniform probability, i.e.: point masses.\n",
    "    binned_optimization : bool\n",
    "        Determines whether to aggregate the point masses in order to speed computations using the distribution.\n",
    "    num_bins : int\n",
    "        The number of bins for the histogram. Fewer bins improves runtime, but hides granular details\n",
    "        due to lower data resolution.\n",
    "        \n",
    "    Returns\n",
    "    -------\n",
    "    probabilities : ndarray\n",
    "        Returns the probabilities of respective events.\n",
    "    returns : ndarray\n",
    "        Returns the events/aggregated observations.\n",
    "    \"\"\"\n",
    "    if binned_optimization:\n",
    "        frequencies, return_bins = np.histogram(hist_returns, bins=num_bins)\n",
    "        probabilities = np.double(frequencies)/len(hist_returns)\n",
    "        returns = (return_bins[:-1] + return_bins[1:]) / 2\n",
    "    else:\n",
    "        # Uniform point masses at each return observation\n",
    "        probabilities = np.double(np.ones_like(hist_returns)) / len(hist_returns)\n",
    "        returns = hist_returns\n",
    "    \n",
    "    return probabilities, returns\n",
    "    "
   ]
  },
  {
   "cell_type": "code",
   "execution_count": 6,
   "metadata": {
    "collapsed": true
   },
   "outputs": [],
   "source": [
    "def expectation(probabilites, returns):\n",
    "    \"\"\"\n",
    "    Compute the expected value of a discrete set of events given their probabilites.\n",
    "    \"\"\"\n",
    "    return sum(probabilites * returns)"
   ]
  },
  {
   "cell_type": "code",
   "execution_count": 7,
   "metadata": {
    "collapsed": true
   },
   "outputs": [],
   "source": [
    "def callback(call):\n",
    "    print(call)"
   ]
  },
  {
   "cell_type": "code",
   "execution_count": 8,
   "metadata": {},
   "outputs": [
    {
     "name": "stderr",
     "output_type": "stream",
     "text": [
      "/Users/nicolastheodore/anaconda/lib/python3.6/site-packages/matplotlib/cbook.py:136: MatplotlibDeprecationWarning: The finance module has been deprecated in mpl 2.0 and will be removed in mpl 2.2. Please use the module mpl_finance instead.\n",
      "  warnings.warn(message, mplDeprecation, stacklevel=1)\n"
     ]
    },
    {
     "ename": "AttributeError",
     "evalue": "module 'matplotlib.finance' has no attribute 'quotes_historical_yahoo'",
     "output_type": "error",
     "traceback": [
      "\u001b[0;31m---------------------------------------------------------------------------\u001b[0m",
      "\u001b[0;31mAttributeError\u001b[0m                            Traceback (most recent call last)",
      "\u001b[0;32m<ipython-input-8-06dd2d239268>\u001b[0m in \u001b[0;36m<module>\u001b[0;34m()\u001b[0m\n\u001b[1;32m      7\u001b[0m \u001b[0mend\u001b[0m \u001b[0;34m=\u001b[0m \u001b[0mdatetime\u001b[0m\u001b[0;34m.\u001b[0m\u001b[0mdatetime\u001b[0m\u001b[0;34m(\u001b[0m\u001b[0;36m2007\u001b[0m\u001b[0;34m,\u001b[0m\u001b[0;36m1\u001b[0m\u001b[0;34m,\u001b[0m\u001b[0;36m1\u001b[0m\u001b[0;34m)\u001b[0m\u001b[0;34m\u001b[0m\u001b[0m\n\u001b[1;32m      8\u001b[0m \u001b[0;34m\u001b[0m\u001b[0m\n\u001b[0;32m----> 9\u001b[0;31m \u001b[0mbars\u001b[0m \u001b[0;34m=\u001b[0m \u001b[0mfin\u001b[0m\u001b[0;34m.\u001b[0m\u001b[0mquotes_historical_yahoo\u001b[0m\u001b[0;34m(\u001b[0m\u001b[0;34m'SPY'\u001b[0m\u001b[0;34m,\u001b[0m \u001b[0mstart\u001b[0m\u001b[0;34m,\u001b[0m \u001b[0mend\u001b[0m\u001b[0;34m)\u001b[0m\u001b[0;34m\u001b[0m\u001b[0m\n\u001b[0m\u001b[1;32m     10\u001b[0m \u001b[0;32mimport\u001b[0m \u001b[0mnumpy\u001b[0m \u001b[0;32mas\u001b[0m \u001b[0mnp\u001b[0m\u001b[0;34m\u001b[0m\u001b[0m\n\u001b[1;32m     11\u001b[0m \u001b[0mclose\u001b[0m \u001b[0;34m=\u001b[0m \u001b[0mnp\u001b[0m\u001b[0;34m.\u001b[0m\u001b[0marray\u001b[0m\u001b[0;34m(\u001b[0m\u001b[0;34m[\u001b[0m\u001b[0mbar\u001b[0m\u001b[0;34m[\u001b[0m\u001b[0;36m4\u001b[0m\u001b[0;34m]\u001b[0m \u001b[0;32mfor\u001b[0m \u001b[0mbar\u001b[0m \u001b[0;32min\u001b[0m \u001b[0mbars\u001b[0m\u001b[0;34m]\u001b[0m\u001b[0;34m)\u001b[0m\u001b[0;34m\u001b[0m\u001b[0m\n",
      "\u001b[0;31mAttributeError\u001b[0m: module 'matplotlib.finance' has no attribute 'quotes_historical_yahoo'"
     ]
    }
   ],
   "source": [
    "# Load some data from yahoo\n",
    "\n",
    "\n",
    "start = datetime.datetime(2006,1,1)\n",
    "end = datetime.datetime(2007,1,1)\n",
    "\n",
    "bars = fin.quotes_historical_yahoo('SPY', start, end)\n",
    "close = np.array([bar[4] for bar in bars])\n",
    "close = close[range(0, len(close), 5)] # Convert to weekly resolution\n",
    "returns = np.diff(close)/close[:-1]\n",
    "\n",
    "# Empirical Kelly\n",
    "kelly(returns)\n",
    "\n",
    "# Continuous/Gaussian Analytic Kelly\n",
    "np.mean(returns)/np.var(returns)\n",
    "\n",
    "pylab.hist(returns)\n",
    "pylab.show()\n",
    "# Good: Heavy left tail caused empirical Kelly to be less than continuous/Gaussian Kelly.\n",
    "# Recall that tail risk arises from platykurtotic returns, increasing the probability of extreme events.\n",
    "# Kurtosis of a Gaussian distribution is 3."
   ]
  },
  {
   "cell_type": "code",
   "execution_count": null,
   "metadata": {
    "collapsed": true
   },
   "outputs": [],
   "source": []
  }
 ],
 "metadata": {
  "kernelspec": {
   "display_name": "Python 3",
   "language": "python",
   "name": "python3"
  },
  "language_info": {
   "codemirror_mode": {
    "name": "ipython",
    "version": 3
   },
   "file_extension": ".py",
   "mimetype": "text/x-python",
   "name": "python",
   "nbconvert_exporter": "python",
   "pygments_lexer": "ipython3",
   "version": "3.6.1"
  }
 },
 "nbformat": 4,
 "nbformat_minor": 2
}
