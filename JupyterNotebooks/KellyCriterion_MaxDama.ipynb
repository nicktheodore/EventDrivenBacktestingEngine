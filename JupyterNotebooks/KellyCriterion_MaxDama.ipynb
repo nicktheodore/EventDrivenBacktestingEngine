{
 "cells": [
  {
   "cell_type": "code",
   "execution_count": 1,
   "metadata": {},
   "outputs": [
    {
     "data": {
      "text/plain": [
       "\"\\nThese Python functions are used to calculate the growth-optimal leverage for a strategy based on its\\nbacktest performance. Each trade's profit or loss is treated as one sample, from an underlying probability\\ndistribution which is generating the PnLs. This function optimizes the amount of leverage one would use when\\nbetting on this distribution, assuming that the strategy will have the smae performance in the near future.\\n\\nExample:\\n\\n# Load some data from yahoo\\nimport matplotlib.finance as fin\\nimport datetime\\nimport pylab\\n\\nstart = datetime.datetime(2006,1,1)\\nend = datetime.datetime(2007,1,1)\\n\\nbars = fin.quotes_historical_yahoo('SPY', start, end)\\nimport numpy as np\\nclose = np.array([bar[4] for bar in bars])\\nclose = close[range(0, len(close), 5)] # Convert to weekly resolution\\nreturns = np.diff(close)/close[:-1]\\n\\n# Empirical Kelly\\nkelly(returns)\\n\\n# Continuous/Gaussian Analytic Kelly\\nnp.mean(returns)/np.var(returns)\\n\\npylab.hist(returns)\\npylab.show()\\n# Good: Heavy left tail caused empirical Kelly to be less than continuous/Gaussian Kelly.\\n# Recall that tail risk arises from platykurtotic returns, increasing the probability of extreme events.\\n# Kurtosis of a Gaussian distribution is 3.\\n\""
      ]
     },
     "execution_count": 1,
     "metadata": {},
     "output_type": "execute_result"
    }
   ],
   "source": [
    "\"\"\"\n",
    "These Python functions are used to calculate the growth-optimal leverage for a strategy based on its\n",
    "backtest performance. Each trade's profit or loss is treated as one sample, from an underlying probability\n",
    "distribution which is generating the PnLs. This function optimizes the amount of leverage one would use when\n",
    "betting on this distribution, assuming that the strategy will have the same performance in the near future.\n",
    "\n",
    "Example:\n",
    "\n",
    "# Load some data from yahoo\n",
    "import matplotlib.finance as fin\n",
    "import datetime\n",
    "import pylab\n",
    "\n",
    "start = datetime.datetime(2006,1,1)\n",
    "end = datetime.datetime(2007,1,1)\n",
    "\n",
    "bars = fin.quotes_historical_yahoo('SPY', start, end)\n",
    "import numpy as np\n",
    "close = np.array([bar[4] for bar in bars])\n",
    "close = close[range(0, len(close), 5)] # Convert to weekly resolution\n",
    "returns = np.diff(close)/close[:-1]\n",
    "\n",
    "# Empirical Kelly\n",
    "kelly(returns)\n",
    "\n",
    "# Continuous/Gaussian Analytic Kelly\n",
    "np.mean(returns)/np.var(returns)\n",
    "\n",
    "pylab.hist(returns)\n",
    "pylab.show()\n",
    "# Good: Heavy left tail caused empirical Kelly to be less than continuous/Gaussian Kelly.\n",
    "# Recall that tail risk arises from platykurtotic returns, increasing the probability of extreme events.\n",
    "# Kurtosis of a Gaussian distribution is 3.\n",
    "\"\"\""
   ]
  },
  {
   "cell_type": "code",
   "execution_count": 9,
   "metadata": {
    "collapsed": true
   },
   "outputs": [],
   "source": [
    "from __future__ import print_function\n",
    "import datetime\n",
    "import numpy as np\n",
    "import pylab\n",
    "import pandas_datareader.data as web\n",
    "import scipy.optimize\n"
   ]
  },
  {
   "cell_type": "code",
   "execution_count": 37,
   "metadata": {},
   "outputs": [],
   "source": [
    "def kelly(hist_returns, binned_optimization=False, num_bins=100, stop_loss=-np.inf):\n",
    "    \"\"\"\n",
    "    Compute the optimal multiplier to leverage historical returns.\n",
    "    \n",
    "    Parameters\n",
    "    ----------\n",
    "    hist_returns : ndarray\n",
    "        Arithmetic 1-pd returns.\n",
    "    binned_optimization : bool\n",
    "        See empirical distribution; fewer bins improves runtime.\n",
    "    num_bins : int\n",
    "        See empirical distribution; fewer bins improves runtime.\n",
    "    stop_loss : double\n",
    "        Experimental; simulate the effect of a stop loss at stop_loss\n",
    "        percent return.\n",
    "        \n",
    "    Returns\n",
    "    -------\n",
    "    f : float\n",
    "        The optimal leverage factor.\n",
    "    \"\"\"\n",
    "    \n",
    "    if stop_loss > -np.inf:\n",
    "        stopped_out = hist_returns < stop_loss\n",
    "        hist_returns[stopped_out] = stop_loss\n",
    "        \n",
    "    probabilities, returns = empirical_distribution(hist_returns, binned_optimization, num_bins) # def below...\n",
    "    print(probabilities, returns)\n",
    "    \n",
    "    # f is the optimal leverage factor\n",
    "    # https://docs.scipy.org/doc/scipy/reference/generated/scipy.optimize.fmin_cg.html#scipy.optimize.fmin_cg\n",
    "    expected_log_return = lambda f: expectation(probabilities, np.log(1+f*returns)) \n",
    "    objective = lambda f: -expected_log_return(f)\n",
    "    derivative = lambda f: -expectation(probabilities, returns/(1.+f*returns))\n",
    "    \n",
    "    return scipy.optimize.fmin_cg(f=objective, x0=1.0, fprime=derivative, disp=1, full_output=1,\n",
    "                                  maxiter=5000, callback=callback)\n"
   ]
  },
  {
   "cell_type": "code",
   "execution_count": 38,
   "metadata": {
    "collapsed": true
   },
   "outputs": [],
   "source": [
    "def empirical_distribution(hist_returns, binned_optimization=True, num_bins=100):\n",
    "    \"\"\"\n",
    "    Aggreggate observations and generate an empirical probability distribution of the historical returns.\n",
    "    \n",
    "    Parameters\n",
    "    ----------\n",
    "    hist_returns : ndarray\n",
    "        Observations; assume uniform probability, i.e.: point masses.\n",
    "    binned_optimization : bool\n",
    "        Determines whether to aggregate the point masses in order to speed computations using the distribution.\n",
    "    num_bins : int\n",
    "        The number of bins for the histogram. Fewer bins improves runtime, but hides granular details\n",
    "        due to lower data resolution.\n",
    "        \n",
    "    Returns\n",
    "    -------\n",
    "    probabilities : ndarray\n",
    "        Returns the probabilities of respective events.\n",
    "    returns : ndarray\n",
    "        Returns the events/aggregated observations.\n",
    "    \"\"\"\n",
    "    if binned_optimization:\n",
    "        frequencies, return_bins = np.histogram(hist_returns, bins=num_bins)\n",
    "        probabilities = np.double(frequencies)/len(hist_returns)\n",
    "        returns = (return_bins[:-1] + return_bins[1:]) / 2\n",
    "    else:\n",
    "        # Uniform point masses at each return observation\n",
    "        probabilities = np.double(np.ones_like(hist_returns)) / len(hist_returns)\n",
    "        returns = hist_returns\n",
    "    \n",
    "    return probabilities, returns\n",
    "    "
   ]
  },
  {
   "cell_type": "code",
   "execution_count": 39,
   "metadata": {
    "collapsed": true
   },
   "outputs": [],
   "source": [
    "def expectation(probabilites, returns):\n",
    "    \"\"\"\n",
    "    Compute the expected value of a discrete set of events given their probabilites.\n",
    "    \"\"\"\n",
    "    return sum(probabilites * returns)"
   ]
  },
  {
   "cell_type": "code",
   "execution_count": 40,
   "metadata": {
    "collapsed": true
   },
   "outputs": [],
   "source": [
    "def callback(call):\n",
    "    print(call)"
   ]
  },
  {
   "cell_type": "code",
   "execution_count": 41,
   "metadata": {},
   "outputs": [
    {
     "name": "stdout",
     "output_type": "stream",
     "text": [
      "[ 0.004  0.004  0.004  0.004  0.004  0.004  0.004  0.004  0.004  0.004\n",
      "  0.004  0.004  0.004  0.004  0.004  0.004  0.004  0.004  0.004  0.004\n",
      "  0.004  0.004  0.004  0.004  0.004  0.004  0.004  0.004  0.004  0.004\n",
      "  0.004  0.004  0.004  0.004  0.004  0.004  0.004  0.004  0.004  0.004\n",
      "  0.004  0.004  0.004  0.004  0.004  0.004  0.004  0.004  0.004  0.004\n",
      "  0.004  0.004  0.004  0.004  0.004  0.004  0.004  0.004  0.004  0.004\n",
      "  0.004  0.004  0.004  0.004  0.004  0.004  0.004  0.004  0.004  0.004\n",
      "  0.004  0.004  0.004  0.004  0.004  0.004  0.004  0.004  0.004  0.004\n",
      "  0.004  0.004  0.004  0.004  0.004  0.004  0.004  0.004  0.004  0.004\n",
      "  0.004  0.004  0.004  0.004  0.004  0.004  0.004  0.004  0.004  0.004\n",
      "  0.004  0.004  0.004  0.004  0.004  0.004  0.004  0.004  0.004  0.004\n",
      "  0.004  0.004  0.004  0.004  0.004  0.004  0.004  0.004  0.004  0.004\n",
      "  0.004  0.004  0.004  0.004  0.004  0.004  0.004  0.004  0.004  0.004\n",
      "  0.004  0.004  0.004  0.004  0.004  0.004  0.004  0.004  0.004  0.004\n",
      "  0.004  0.004  0.004  0.004  0.004  0.004  0.004  0.004  0.004  0.004\n",
      "  0.004  0.004  0.004  0.004  0.004  0.004  0.004  0.004  0.004  0.004\n",
      "  0.004  0.004  0.004  0.004  0.004  0.004  0.004  0.004  0.004  0.004\n",
      "  0.004  0.004  0.004  0.004  0.004  0.004  0.004  0.004  0.004  0.004\n",
      "  0.004  0.004  0.004  0.004  0.004  0.004  0.004  0.004  0.004  0.004\n",
      "  0.004  0.004  0.004  0.004  0.004  0.004  0.004  0.004  0.004  0.004\n",
      "  0.004  0.004  0.004  0.004  0.004  0.004  0.004  0.004  0.004  0.004\n",
      "  0.004  0.004  0.004  0.004  0.004  0.004  0.004  0.004  0.004  0.004\n",
      "  0.004  0.004  0.004  0.004  0.004  0.004  0.004  0.004  0.004  0.004\n",
      "  0.004  0.004  0.004  0.004  0.004  0.004  0.004  0.004  0.004  0.004\n",
      "  0.004  0.004  0.004  0.004  0.004  0.004  0.004  0.004  0.004  0.004] Date\n",
      "2006-01-03    0.004735\n",
      "2006-01-04    0.000629\n",
      "2006-01-05    0.008322\n",
      "2006-01-06    0.002569\n",
      "2006-01-09    0.001010\n",
      "2006-01-10    0.003181\n",
      "2006-01-11   -0.003944\n",
      "2006-01-12   -0.000932\n",
      "2006-01-13   -0.002720\n",
      "2006-01-17   -0.003974\n",
      "2006-01-18    0.003834\n",
      "2006-01-19   -0.018237\n",
      "2006-01-20    0.003572\n",
      "2006-01-23    0.001028\n",
      "2006-01-24    0.000870\n",
      "2006-01-25    0.005527\n",
      "2006-01-26    0.009265\n",
      "2006-01-27   -0.000778\n",
      "2006-01-30   -0.007319\n",
      "2006-01-31    0.006981\n",
      "2006-02-01   -0.011605\n",
      "2006-02-02   -0.004965\n",
      "2006-02-03    0.002614\n",
      "2006-02-06   -0.008847\n",
      "2006-02-07    0.009085\n",
      "2006-02-08   -0.001658\n",
      "2006-02-09    0.001819\n",
      "2006-02-10   -0.001816\n",
      "2006-02-13    0.010600\n",
      "2006-02-14    0.003523\n",
      "                ...   \n",
      "2006-11-15    0.002571\n",
      "2006-11-16    0.000285\n",
      "2006-11-17    0.000570\n",
      "2006-11-20    0.000997\n",
      "2006-11-21    0.001991\n",
      "2006-11-22   -0.004045\n",
      "2006-11-24   -0.013751\n",
      "2006-11-27    0.004334\n",
      "2006-11-28    0.010430\n",
      "2006-11-29    0.000427\n",
      "2006-11-30   -0.002206\n",
      "2006-12-01    0.007631\n",
      "2006-12-04    0.004318\n",
      "2006-12-05   -0.000846\n",
      "2006-12-06   -0.004373\n",
      "2006-12-07    0.001842\n",
      "2006-12-08    0.002900\n",
      "2006-12-11   -0.000776\n",
      "2006-12-12    0.001058\n",
      "2006-12-13    0.008810\n",
      "2006-12-14    0.000092\n",
      "2006-12-15   -0.002740\n",
      "2006-12-18    0.001902\n",
      "2006-12-19   -0.000562\n",
      "2006-12-20   -0.003659\n",
      "2006-12-21   -0.006143\n",
      "2006-12-22    0.005897\n",
      "2006-12-26    0.006568\n",
      "2006-12-27   -0.002105\n",
      "2006-12-28   -0.004149\n",
      "Name: Adj Close, Length: 250, dtype: float64\n",
      "[ 11.90446363]\n",
      "[ 13.43949299]\n",
      "Optimization terminated successfully.\n",
      "         Current function value: -0.003701\n",
      "         Iterations: 2\n",
      "         Function evaluations: 17\n",
      "         Gradient evaluations: 17\n"
     ]
    },
    {
     "data": {
      "image/png": "[encoded data removed]",
      "text/plain": [
       "<matplotlib.figure.Figure at 0x1129007b8>"
      ]
     },
     "metadata": {},
     "output_type": "display_data"
    }
   ],
   "source": [
    "# Load some data from yahoo\n",
    "\n",
    "\n",
    "start = datetime.datetime(2006,1,1)\n",
    "end = datetime.datetime(2007,1,1)\n",
    "\n",
    "spy = web.DataReader(\"SPY\", \"yahoo\", start, end)\n",
    "close = spy[\"Adj Close\"]\n",
    "#close = close[0:len(close):5] # Convert to weekly resolution\n",
    "returns = np.diff(close)/close[:-1]\n",
    "\n",
    "# Empirical Kelly\n",
    "kelly(returns)\n",
    "\n",
    "# Continuous/Gaussian Analytic Kelly\n",
    "np.mean(returns)/np.var(returns)\n",
    "\n",
    "pylab.hist(returns)\n",
    "pylab.show()\n",
    "# Good: Heavy left tail caused empirical Kelly to be less than continuous/Gaussian Kelly.\n",
    "# Recall that tail risk arises from platykurtotic returns, increasing the probability of extreme events.\n",
    "# Kurtosis of a Gaussian distribution is 3."
   ]
  },
  {
   "cell_type": "code",
   "execution_count": null,
   "metadata": {
    "collapsed": true
   },
   "outputs": [],
   "source": []
  }
 ],
 "metadata": {
  "kernelspec": {
   "display_name": "Python 3",
   "language": "python",
   "name": "python3"
  },
  "language_info": {
   "codemirror_mode": {
    "name": "ipython",
    "version": 3
   },
   "file_extension": ".py",
   "mimetype": "text/x-python",
   "name": "python",
   "nbconvert_exporter": "python",
   "pygments_lexer": "ipython3",
   "version": "3.6.1"
  }
 },
 "nbformat": 4,
 "nbformat_minor": 2
}
